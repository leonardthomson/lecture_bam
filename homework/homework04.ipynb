{
 "cells": [
  {
   "cell_type": "code",
   "execution_count": null,
   "metadata": {},
   "outputs": [],
   "source": [
    "# math imports\n",
    "import random\n",
    "import scipy.stats as stats\n",
    "import numpy as np\n",
    "# plotting imports\n",
    "import matplotlib.pyplot as plt\n",
    "import ipywidgets as widgets"
   ]
  },
  {
   "cell_type": "markdown",
   "metadata": {
    "vscode": {
     "languageId": "markdown"
    }
   },
   "source": [
    "# Exercise: Analyzing a Stochastic Spaghetti Knotting Problem\n",
    "\n",
    "The problem is defined as follows:\n",
    "\n",
    "You have a plate with $n$ pieces of spaghetti. Each spaghetto has two ends. You randomly pick two ends from the plate and knot them together. You continue this process until all ends are knotted.\n",
    "If we pick the ends of the same spaghetto or of one chain of knotted spaghetti, we create a loop by knotting them together.\n",
    "\n",
    "We are interested in the number and the maximal length of these loops.\n",
    "\n",
    "## Example with $n=3$\n",
    "\n",
    "Consider the case where $n=3$, meaning there are $3$ spaghetti, each with $2$ ends, resulting in a total of $6$ ends.\n",
    "A *possible* outcome could be:\n",
    "\n",
    "1. We pick the two ends of our first spaghetto, knot them together and have a 1-spaghetto-loop.\n",
    "2. Then we pick one end of spaghetto two and one end of spaghetto three. Knotting them together yields a longs spaghetto but no new loop.\n",
    "3. Now our pick is non random since we only have two ends left to choose and we create one last loop of length two.\n",
    "\n",
    "The possible outcomes of this process can be different configurations of loops formed by the knotted ends. \n",
    "Indeed it can result in $1$ loop of length $3$, $2$ loops of length $1$ resp $2$ or $3$ loops of length $1$.\n",
    "\n",
    "## Note:\n",
    "\n",
    "This algorithm will end after exactly $n$ knots, since we have $2n$ ends and each knot reduces the number of ends by $2$."
   ]
  },
  {
   "cell_type": "markdown",
   "metadata": {},
   "source": [
    "## First Exercise: Simulate the Number of Loops\n",
    "\n",
    "We look at how many loops this algorithm yields.\n",
    "This can be viewed as a discrete random variable with support $[1,...,n]$.\n",
    "In this exercise, we want to simulate this random variable.\n",
    "\n",
    "Before implementing think about the steps and the randomness in each step.\n",
    "How can you implement this problem?\n",
    "\n",
    "**Hint:** Try to determin the probability that the $(k+1)$-th knot yields a new loop.\n",
    "These experiments are indeed independent (because they are only dependent on the number of ends which are left) and since they are binary also bernoulli distributed.\n",
    "\n",
    "**Add-on:** Please write DOC-strings and comment your Code."
   ]
  },
  {
   "cell_type": "code",
   "execution_count": null,
   "metadata": {},
   "outputs": [],
   "source": [
    "def simulate_number_of_loops(n):\n",
    "    \"\"\"\n",
    "    #### Write DOC Strings ####\n",
    "    \"\"\"\n",
    "    n_l = 0\n",
    "    #### YOUR CODE HERE ####\n",
    "    #### END YOUR CODE ####\n",
    "    return n_l\n",
    "\n",
    "# Example usage\n",
    "n = 3\n",
    "n_l = simulate_number_of_loops(n)\n",
    "print(\"Loop counts:\", n_l)\n",
    "loop_counts = [simulate_number_of_loops(n) for _ in range(100)]\n",
    "unique, counts = np.unique(loop_counts, return_counts=True)\n",
    "loop_count_frequencies = dict(zip(unique, counts))\n",
    "print(\"Loop count frequencies:\", loop_count_frequencies)"
   ]
  },
  {
   "cell_type": "markdown",
   "metadata": {},
   "source": [
    "### Approximating the mean\n",
    "\n",
    "We now want to approximate the expectation using the empirical mean of iid trials.\n",
    "\n",
    "**Fun fact:** The expectation can be explicitely calculated using prove by induction."
   ]
  },
  {
   "cell_type": "code",
   "execution_count": null,
   "metadata": {},
   "outputs": [],
   "source": [
    "# Number of trials\n",
    "num_trials = 1500\n",
    "num_steps = 80\n",
    "n1 = 5\n",
    "n2 = 10\n",
    "# Simulate the number of loops for increasing number of trials\n",
    "trials = np.unique(np.logspace(0, np.log10(num_trials), num=num_steps, dtype=int))\n",
    "mean_for_n1 = [np.mean([simulate_number_of_loops(n1) for _ in range(i)]) for i in trials]\n",
    "mean_for_n2 = [np.mean([simulate_number_of_loops(n2) for _ in range(i)]) for i in trials]\n",
    "\n",
    "# Plot the convergence of the mean number of loops\n",
    "plt.plot(trials, mean_for_n1)\n",
    "plt.plot(trials, mean_for_n2)\n",
    "plt.xlabel('Number of Trials')\n",
    "plt.ylabel('Mean Number of Loops')\n",
    "plt.ylim([1, 3])\n",
    "plt.title('Convergence of Mean Number of Loops for n=100')\n",
    "plt.grid(True)\n",
    "\n",
    "plt.show()"
   ]
  },
  {
   "cell_type": "markdown",
   "metadata": {},
   "source": [
    "## Second Exercise: Track the Length of Each Resulting Loop\n",
    "\n",
    "In this exercise, we will implement a function that keeps track of the length of each resulting loop when knotting the ends of spaghetti pieces. This function will simulate the knotting process and return a list of loop lengths formed during the process.\n",
    "\n",
    "**Hint (One possible way to implement this...):** \n",
    "1. Keep track of each spaghetti piece's length in a separate list.\n",
    "    * When two separate spaghetti chains are knotted together, add their lengths, update this length in the spaghetti list and delete one of the knotted spaghetti from the list.\n",
    "    * When a loop is formed, add its length to the list of loop lengths and delete the spaghetti.\n",
    "2. To simulate a draw of two spaghetti ends, you may think of drawing without replacement from an urn where each index of the spaghetti list is placed exactly twice."
   ]
  },
  {
   "cell_type": "code",
   "execution_count": null,
   "metadata": {},
   "outputs": [],
   "source": [
    "def simulate_spaghetti_knotting(n):\n",
    "    \"\"\"\n",
    "    #### Write DOC Strings ####\n",
    "    \"\"\"\n",
    "    # Track length of the loops\n",
    "    loops = []\n",
    "    #### YOUR CODE HERE ####\n",
    "    #### END YOUR CODE ####\n",
    "    return loops\n",
    "\n",
    "# Example usage\n",
    "n = 3\n",
    "loops = simulate_spaghetti_knotting(n)\n",
    "print(\"Loop lengths:\", loops)\n",
    "print(\"Loop counts:\", len(loops))"
   ]
  },
  {
   "cell_type": "markdown",
   "metadata": {},
   "source": [
    "### Approximating the mean\n",
    "\n",
    "We approximate the expectation of the size of the longest chain using the empirical mean of iid trials.\n",
    "\n",
    "**Fun fact:** This expectation is much harder to explicitily evaluate."
   ]
  },
  {
   "cell_type": "code",
   "execution_count": null,
   "metadata": {},
   "outputs": [],
   "source": [
    "# Number of trials\n",
    "num_trials = 1500\n",
    "num_steps = 80\n",
    "n1 = 5\n",
    "n2 = 10\n",
    "# Simulate the number of loops for increasing number of trials\n",
    "trials = np.unique(np.logspace(0, np.log10(num_trials), num=num_steps, dtype=int))\n",
    "max_loop_lengths_n1 = [np.mean([max(simulate_spaghetti_knotting(n1)) for _ in range(i)]) for i in trials]\n",
    "max_loop_lengths_n2 = [np.mean([simulate_number_of_loops(n2) for _ in range(i)]) for i in trials]\n",
    "\n",
    "# Plot the convergence of the mean number of loops\n",
    "plt.plot(trials, max_loop_lengths_n1)\n",
    "plt.plot(trials, max_loop_lengths_n2)\n",
    "plt.xlabel('Number of Trials')\n",
    "plt.ylabel('Mean Number of Loops')\n",
    "#plt.ylim([1, 3])\n",
    "plt.title('Convergence of Mean Number of Loops for n=100')\n",
    "plt.grid(True)\n",
    "\n",
    "plt.show()"
   ]
  },
  {
   "cell_type": "markdown",
   "metadata": {},
   "source": [
    "### Plotting the empirical distribution\n",
    "\n",
    "Since it is hard to calculate the mean of the size of the longest loop, it is even harder to determin the actual distribution this random variable follows.\n",
    "Hence it makes sense to look at the empirical distribution for increasing trial number and hope that it converges to the true distribution of this random variable."
   ]
  },
  {
   "cell_type": "code",
   "execution_count": null,
   "metadata": {},
   "outputs": [],
   "source": [
    "def update_plot(num_trials, n=10):\n",
    "    \"\"\"\n",
    "    Updates the plot showing the relative frequencies of the maximum loop lengths \n",
    "    obtained from simulating spaghetti knotting.\n",
    "    Parameters:\n",
    "    num_trials (int): The number of trials to run the simulation.\n",
    "    Returns:\n",
    "    None\n",
    "    \"\"\"\n",
    "    num_trials = int(num_trials)\n",
    "    max_loop_lengths = [max(simulate_spaghetti_knotting(n)) for _ in range(num_trials)]\n",
    "    unique_max, counts_max = np.unique(max_loop_lengths, return_counts=True)\n",
    "    relative_frequencies = counts_max / num_trials\n",
    "    \n",
    "\n",
    "    plt.bar(unique_max, relative_frequencies)\n",
    "    plt.xlim([0, n+1])\n",
    "    plt.ylim([0, .5])\n",
    "    plt.xlabel('Maximum Loop Length')\n",
    "    plt.ylabel('Relative Frequency')\n",
    "    plt.title('Relative Frequencies of the Maximum Loop Length')\n",
    "    plt.grid(True)\n",
    "    plt.show()\n",
    "\n",
    "\n",
    "slider = widgets.FloatLogSlider(value=1024, base=2, min=0, max=15, step=1, description='# samples:')\n",
    "widgets.interact(update_plot, num_trials=slider, n=(1,10))"
   ]
  },
  {
   "cell_type": "markdown",
   "metadata": {},
   "source": [
    "## Conclusion\n",
    "- We observed the convergence of the mean number of loops with an increasing number of trials.\n",
    "- Additionally the size of the largest loop convergences in mean.\n",
    "- We plotted the empirical distribution of the lengths of the maximal loop.\n",
    "\n",
    "These simulations provide insights into the behavior of random knotting processes and can be extended to study more complex stochastic systems.\n",
    "The visualizations and statistical analyses help in understanding the underlying patterns and distributions in such random processes.\n",
    "Specifically the distribution of the size of the biggest loop is not easy to explicitily determin, but we were able to get an intuition on how this random variable behaves using the empirical distribution."
   ]
  }
 ],
 "metadata": {
  "kernelspec": {
   "display_name": "master",
   "language": "python",
   "name": "python3"
  },
  "language_info": {
   "codemirror_mode": {
    "name": "ipython",
    "version": 3
   },
   "file_extension": ".py",
   "mimetype": "text/x-python",
   "name": "python",
   "nbconvert_exporter": "python",
   "pygments_lexer": "ipython3",
   "version": "3.12.7"
  }
 },
 "nbformat": 4,
 "nbformat_minor": 2
}
