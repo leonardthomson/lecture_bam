{
 "cells": [
  {
   "cell_type": "markdown",
   "metadata": {},
   "source": [
    "This notebook is meant for the students of Basics of Applied Mathematics, in the master of Mathematics in Data and Technology, Freiburg Univsersity, 2024"
   ]
  },
  {
   "cell_type": "markdown",
   "metadata": {},
   "source": [
    "<div class=\"alert alert-success\">\n",
    "\n",
    "**Tip:**\n",
    "    \n",
    "To execute the Python/Markdown cells below, click on the cell to select it and press <kbd>Shift</kbd> + <kbd>Enter</kbd> or click on the Play symbol on the left side of the cell.\n",
    "    \n",
    "</div>"
   ]
  },
  {
   "cell_type": "markdown",
   "metadata": {},
   "source": [
    "\n",
    "<div class=\"alert alert-success\">\n",
    "\n",
    "**Tip:**\n",
    "   \n",
    "To choose wether a cell should be interpreted as a Markdown (for writing text) or a Python (for executing code), press  <kbd>M</kbd> for markdown or <kbd>Y</kbd> for Python.\n",
    "\n",
    "Find out many other shortcuts by pressing <kbd>H</kbd> outside the cells.\n",
    "</div>\n"
   ]
  },
  {
   "cell_type": "markdown",
   "metadata": {},
   "source": [
    "# Introduction"
   ]
  },
  {
   "cell_type": "markdown",
   "metadata": {},
   "source": [
    "## Tutorials\n",
    "For those of you totally new to Python you might prefer to start with some online tutorial.\n",
    "For a specific question, it is usually sufficient to google it and find a related question on [Stack Overflow](https://stackoverflow.com/).\n",
    "\n",
    "A couple of tutorial (non-exhaustive list!):\n",
    "* [The official tutorial for Python](https://docs.python.org/3/tutorial/)\n",
    "* [The official Tutorial for Numpy](https://numpy.org/doc/stable/user/absolute_beginners.html)\n",
    "* [A good YouTube Channel](https://www.youtube.com/playlist?list=PLWKjhJtqVAbnqBxcdjVGgT3uVR10bzTEB)\n",
    "* [Think Python](https://greenteapress.com/wp/think-python/)\n",
    "* [Dive into Python](https://diveintopython3.net/)\n",
    "* [Guide for python](https://docs.python-guide.org/)"
   ]
  },
  {
   "cell_type": "markdown",
   "metadata": {},
   "source": [
    "## Your task"
   ]
  },
  {
   "cell_type": "markdown",
   "metadata": {},
   "source": [
    "This notebook, and the next ones will contain some code snippets with missing lines that you will have to fill in! Please also try to read and understand the parts that you do not have to fill in to understand better how the code works."
   ]
  },
  {
   "cell_type": "markdown",
   "metadata": {},
   "source": [
    "# Very basics of python"
   ]
  },
  {
   "cell_type": "markdown",
   "metadata": {},
   "source": [
    "## Printing"
   ]
  },
  {
   "cell_type": "code",
   "execution_count": null,
   "metadata": {
    "ExecuteTime": {
     "end_time": "2024-10-14T23:53:59.650941Z",
     "start_time": "2024-10-14T23:53:59.639300Z"
    }
   },
   "outputs": [],
   "source": [
    "print('Hello, Python!') # This line prints a string\n",
    "# print('Hi') # This line does not since it is commented out"
   ]
  },
  {
   "cell_type": "code",
   "execution_count": null,
   "metadata": {
    "ExecuteTime": {
     "end_time": "2024-10-14T23:53:59.664447Z",
     "start_time": "2024-10-14T23:53:59.657066Z"
    }
   },
   "outputs": [],
   "source": [
    "x = 5\n",
    "y = 1 / 30\n",
    "\n",
    "# Now print x and y\n",
    "print(x, y)"
   ]
  },
  {
   "cell_type": "code",
   "execution_count": null,
   "metadata": {
    "ExecuteTime": {
     "end_time": "2024-10-14T23:53:59.675789Z",
     "start_time": "2024-10-14T23:53:59.668744Z"
    }
   },
   "outputs": [],
   "source": [
    "# f string format allows to print numbers within a sentence.\n",
    "print(f\"The variable x is equal to {x} and y equals {y}\")"
   ]
  },
  {
   "cell_type": "code",
   "execution_count": null,
   "metadata": {
    "ExecuteTime": {
     "end_time": "2024-10-14T23:53:59.688672Z",
     "start_time": "2024-10-14T23:53:59.682913Z"
    }
   },
   "outputs": [],
   "source": [
    "# You can also specify the number of digits you want to print\n",
    "print(f\"The variable x is equal to {x:.1f} and y equals {y:.3f}\")"
   ]
  },
  {
   "cell_type": "code",
   "execution_count": null,
   "metadata": {
    "ExecuteTime": {
     "end_time": "2024-10-14T23:53:59.698221Z",
     "start_time": "2024-10-14T23:53:59.692372Z"
    }
   },
   "outputs": [],
   "source": [
    "# Or change the format to scentific notations\n",
    "print(f\"The variable x is equal to {x:.2e} and y equals {y:.2e}\")"
   ]
  },
  {
   "cell_type": "code",
   "execution_count": null,
   "metadata": {
    "ExecuteTime": {
     "end_time": "2024-10-14T23:53:59.708784Z",
     "start_time": "2024-10-14T23:53:59.702069Z"
    }
   },
   "outputs": [],
   "source": [
    "# Print several times with ... instead of line jump\n",
    "print(\"Hi\", end=\" ... \")\n",
    "print(\"Hi again\", end=\" ... \")\n",
    "print(\"and again\", end=\" ... \")"
   ]
  },
  {
   "cell_type": "markdown",
   "metadata": {},
   "source": [
    "<hr/>\n",
    "<div class=\"alert alert-block alert-info\">\n",
    "\n",
    "**Task:**\n",
    "\n",
    "Write the text \" 3.1415^2 is approximately ....\" with the correct answer instead of ..., with 4 digits precision.\n",
    "</div>"
   ]
  },
  {
   "cell_type": "markdown",
   "metadata": {},
   "source": [
    " \n",
    "<div class=\"alert alert-success\">\n",
    "    \n",
    "**Tip:**\n",
    "The Python notation for $x^n$ is: x**n\n",
    "</div>\n",
    " "
   ]
  },
  {
   "cell_type": "code",
   "execution_count": null,
   "metadata": {
    "ExecuteTime": {
     "end_time": "2024-10-14T23:53:59.719551Z",
     "start_time": "2024-10-14T23:53:59.712658Z"
    }
   },
   "outputs": [],
   "source": [
    "# ----- YOUR CODE:\n",
    "\n",
    "# --------- END YOUR CODE"
   ]
  },
  {
   "cell_type": "markdown",
   "metadata": {},
   "source": [
    "## Types"
   ]
  },
  {
   "cell_type": "code",
   "execution_count": null,
   "metadata": {
    "ExecuteTime": {
     "end_time": "2024-10-14T23:53:59.734873Z",
     "start_time": "2024-10-14T23:53:59.724360Z"
    }
   },
   "outputs": [],
   "source": [
    "# Type integer\n",
    "\n",
    "x = 5\n",
    "\n",
    "print(f\" The type of x     is {type(x)}, \\n The type of x + 1 is {type(x+1)} \")"
   ]
  },
  {
   "cell_type": "code",
   "execution_count": null,
   "metadata": {
    "ExecuteTime": {
     "end_time": "2024-10-14T23:53:59.750978Z",
     "start_time": "2024-10-14T23:53:59.744641Z"
    }
   },
   "outputs": [],
   "source": [
    "# Type float\n",
    "print(f\"   x + 0.1 = {x + 0.1} and its type is {type(x+0.1)}\")"
   ]
  },
  {
   "cell_type": "code",
   "execution_count": null,
   "metadata": {
    "ExecuteTime": {
     "end_time": "2024-10-14T23:53:59.761446Z",
     "start_time": "2024-10-14T23:53:59.754973Z"
    }
   },
   "outputs": [],
   "source": [
    "# Sometimes, even integers can be viewed as floats\n",
    "x = 5.0\n",
    "print(type(x))"
   ]
  },
  {
   "cell_type": "code",
   "execution_count": null,
   "metadata": {
    "ExecuteTime": {
     "end_time": "2024-10-14T23:53:59.773529Z",
     "start_time": "2024-10-14T23:53:59.766253Z"
    }
   },
   "outputs": [],
   "source": [
    "# Type Boolean\n",
    "boolean = (1 > 2) # False\n",
    "print(type(boolean))\n",
    "print(f\" 1 is greater than 2 ? {boolean}\")"
   ]
  },
  {
   "cell_type": "code",
   "execution_count": null,
   "metadata": {
    "ExecuteTime": {
     "end_time": "2024-10-14T23:53:59.783040Z",
     "start_time": "2024-10-14T23:53:59.777002Z"
    }
   },
   "outputs": [],
   "source": [
    "# Logical operations between booleans\n",
    "\n",
    "print(True and True) # True\n",
    "print(True and False) # False\n",
    "print(False or True) # True\n",
    "print(False or False) # False"
   ]
  },
  {
   "cell_type": "code",
   "execution_count": null,
   "metadata": {
    "ExecuteTime": {
     "end_time": "2024-10-14T23:53:59.791412Z",
     "start_time": "2024-10-14T23:53:59.786342Z"
    }
   },
   "outputs": [],
   "source": [
    "# Check if 3/5 is between 1/3 and 2/3\n",
    "x = 3 / 5\n",
    "check = (x > 1/3) and (x < 2 / 3)\n",
    "print(check)"
   ]
  },
  {
   "cell_type": "code",
   "execution_count": null,
   "metadata": {
    "ExecuteTime": {
     "end_time": "2024-10-14T23:53:59.803488Z",
     "start_time": "2024-10-14T23:53:59.795743Z"
    }
   },
   "outputs": [],
   "source": [
    "# Lists\n",
    "LIST = [\"Hi,\", \"this\", \"is\", \"a\", \"list.\", \"Bye!\"]\n",
    "\n",
    "print(f\"length of LIST: {len(LIST)}\")\n",
    "print(f\"first element of LIST : {LIST[0]}\")\n",
    "print(f\"third element of LIST : {LIST[2]}\")\n",
    "print(f\"last element of LIST : {LIST[-1]}\")"
   ]
  },
  {
   "cell_type": "code",
   "execution_count": null,
   "metadata": {
    "ExecuteTime": {
     "end_time": "2024-10-14T23:53:59.815583Z",
     "start_time": "2024-10-14T23:53:59.808819Z"
    }
   },
   "outputs": [],
   "source": [
    "# Print every element\n",
    "print(LIST) # this print the list"
   ]
  },
  {
   "cell_type": "code",
   "execution_count": null,
   "metadata": {
    "ExecuteTime": {
     "end_time": "2024-10-14T23:53:59.825460Z",
     "start_time": "2024-10-14T23:53:59.820065Z"
    }
   },
   "outputs": [],
   "source": [
    "complicateLIST = [[\"Not me\", \"print me!\"], \"Not me neither\"]"
   ]
  },
  {
   "cell_type": "markdown",
   "metadata": {},
   "source": [
    "<hr/>\n",
    "<div class=\"alert alert-block alert-info\">\n",
    "   \n",
    "**Task:**\n",
    "    \n",
    "Find a way to access to the string \"print me!\" from complicateLIST\n",
    "</div>"
   ]
  },
  {
   "cell_type": "code",
   "execution_count": null,
   "metadata": {
    "ExecuteTime": {
     "end_time": "2024-10-14T23:53:59.835394Z",
     "start_time": "2024-10-14T23:53:59.829686Z"
    }
   },
   "outputs": [],
   "source": [
    "# ----- YOUR CODE:\n",
    "string = ...\n",
    "# --------- END YOUR CODE\n",
    "print(string)"
   ]
  },
  {
   "cell_type": "markdown",
   "metadata": {},
   "source": [
    "## Loops"
   ]
  },
  {
   "cell_type": "code",
   "execution_count": null,
   "metadata": {
    "ExecuteTime": {
     "end_time": "2024-10-14T23:53:59.843886Z",
     "start_time": "2024-10-14T23:53:59.839197Z"
    }
   },
   "outputs": [],
   "source": [
    "# Loop to print the element of a list\n",
    "LIST = [\"Hi,\", \"this\", \"is\", \"a\", \"list.\", \"Bye!\"]\n",
    "for element in LIST:\n",
    "    print(element)"
   ]
  },
  {
   "cell_type": "code",
   "execution_count": null,
   "metadata": {
    "ExecuteTime": {
     "end_time": "2024-10-14T23:53:59.853307Z",
     "start_time": "2024-10-14T23:53:59.847706Z"
    }
   },
   "outputs": [],
   "source": [
    "# A bit more pretty\n",
    "for element in LIST:\n",
    "    print(f\"{element}\", end=\" \")"
   ]
  },
  {
   "cell_type": "code",
   "execution_count": null,
   "metadata": {
    "ExecuteTime": {
     "end_time": "2024-10-14T23:53:59.861817Z",
     "start_time": "2024-10-14T23:53:59.856396Z"
    }
   },
   "outputs": [],
   "source": [
    "# Loop for some specific numbers\n",
    "NUMBERS = [0, 1, 3, 8]\n",
    "for n in NUMBERS:\n",
    "    print(f\"n = {n}, n^2 = {n**2}\")"
   ]
  },
  {
   "cell_type": "code",
   "execution_count": null,
   "metadata": {
    "ExecuteTime": {
     "end_time": "2024-10-14T23:53:59.879426Z",
     "start_time": "2024-10-14T23:53:59.874934Z"
    }
   },
   "outputs": [],
   "source": [
    "# Loop for all numbers\n",
    "for n in range(8): # n goes from 0 to 7\n",
    "    print(f\"n = {n}, n^2 = {n**2}\")"
   ]
  },
  {
   "cell_type": "code",
   "execution_count": null,
   "metadata": {
    "ExecuteTime": {
     "end_time": "2024-10-14T23:53:59.889423Z",
     "start_time": "2024-10-14T23:53:59.883610Z"
    }
   },
   "outputs": [],
   "source": [
    "# Save the results in another list\n",
    "NUMBERS = [0, 1, 3, 8]\n",
    "SQUARED_NUMBERS = []\n",
    "for n in NUMBERS:\n",
    "    SQUARED_NUMBERS.append(n**2)\n",
    "\n",
    "print(SQUARED_NUMBERS)"
   ]
  },
  {
   "cell_type": "markdown",
   "metadata": {},
   "source": [
    "<hr/>\n",
    "<div class=\"alert alert-block alert-info\">\n",
    "   \n",
    "**Task:**\n",
    "    \n",
    "Create a list of length 10 where the i-th element is the boolean \"True\" if 3.14 > i and False else.\n",
    "</div>"
   ]
  },
  {
   "cell_type": "code",
   "execution_count": null,
   "metadata": {
    "ExecuteTime": {
     "end_time": "2024-10-14T23:53:59.897878Z",
     "start_time": "2024-10-14T23:53:59.892755Z"
    }
   },
   "outputs": [],
   "source": [
    "# ----- YOUR CODE:\n",
    "myLIST = ...\n",
    "# --------- END YOUR CODE\n",
    "print(myLIST)"
   ]
  },
  {
   "cell_type": "markdown",
   "metadata": {},
   "source": [
    "## If conditions"
   ]
  },
  {
   "cell_type": "code",
   "execution_count": null,
   "metadata": {
    "ExecuteTime": {
     "end_time": "2024-10-14T23:53:59.908384Z",
     "start_time": "2024-10-14T23:53:59.901659Z"
    }
   },
   "outputs": [],
   "source": [
    "x = 5\n",
    "y = 1 / 30\n",
    "\n",
    "if x > 3:\n",
    "    print(\"x is greater than 3\")\n",
    "else:\n",
    "    print(\"x is not greater than 3\")\n",
    "    \n",
    "if y > 3:\n",
    "    print(\"y is greater than 3\")\n",
    "else:\n",
    "    print(\"y is not greater than 3\")"
   ]
  },
  {
   "cell_type": "markdown",
   "metadata": {},
   "source": [
    "<hr/>\n",
    "<div class=\"alert alert-block alert-info\">\n",
    "   \n",
    "**Task:**\n",
    "    \n",
    "Print either the sentence \"3.1415 is greater than 22 / 7\" or  \"3.1415 is less than 22 / 7\" depending on which one is true.\n",
    "</div>\n"
   ]
  },
  {
   "cell_type": "code",
   "execution_count": null,
   "metadata": {
    "ExecuteTime": {
     "end_time": "2024-10-14T23:53:59.917570Z",
     "start_time": "2024-10-14T23:53:59.912126Z"
    }
   },
   "outputs": [],
   "source": [
    "# ----- YOUR CODE:\n",
    "\n",
    "# --------- END YOUR CODE"
   ]
  },
  {
   "cell_type": "markdown",
   "metadata": {},
   "source": [
    "## Functions"
   ]
  },
  {
   "cell_type": "code",
   "execution_count": null,
   "metadata": {
    "ExecuteTime": {
     "end_time": "2024-10-14T23:53:59.928079Z",
     "start_time": "2024-10-14T23:53:59.922101Z"
    }
   },
   "outputs": [],
   "source": [
    "def my_first_function(x):\n",
    "    x_minus_one = x - 1\n",
    "    x_minus_one_square = x**2\n",
    "    two_times_x_minus_one_square = 2 * x_minus_one_square\n",
    "    return two_times_x_minus_one_square"
   ]
  },
  {
   "cell_type": "code",
   "execution_count": null,
   "metadata": {
    "ExecuteTime": {
     "end_time": "2024-10-14T23:53:59.939867Z",
     "start_time": "2024-10-14T23:53:59.931818Z"
    },
    "scrolled": true
   },
   "outputs": [],
   "source": [
    "for i in range(8):\n",
    "    f_of_i = my_first_function(i)\n",
    "    print(f\"f({i}) = 2 x ({i} - 1)^2 =  {f_of_i}\")"
   ]
  },
  {
   "cell_type": "markdown",
   "metadata": {},
   "source": [
    "<hr/>\n",
    "<div class=\"alert alert-block alert-info\">\n",
    "    \n",
    "**Task:**   \n",
    "    \n",
    "Implement the function g defined as follows:\n",
    "    $$\n",
    "    g(x, y) = \\begin{cases}\n",
    "    2x + 3y + 1 \\; &\\mathrm{if} \\; x > y \\\\\n",
    "    5x + 1 &\\mathrm{if} \\; x \\leq y \\\\\n",
    "    \\end{cases}\n",
    "    $$\n",
    "</div>"
   ]
  },
  {
   "cell_type": "code",
   "execution_count": null,
   "metadata": {
    "ExecuteTime": {
     "end_time": "2024-10-14T23:53:59.949872Z",
     "start_time": "2024-10-14T23:53:59.944304Z"
    }
   },
   "outputs": [],
   "source": [
    "# ----- YOUR CODE:\n",
    "\n",
    "# --------- END YOUR CODE"
   ]
  },
  {
   "cell_type": "code",
   "execution_count": null,
   "metadata": {
    "ExecuteTime": {
     "end_time": "2024-10-14T23:53:59.960164Z",
     "start_time": "2024-10-14T23:53:59.954029Z"
    }
   },
   "outputs": [],
   "source": [
    "for (x, y) in [(4, 9), (4, 5), (4, 4), (4, 3), (0, 0)]:\n",
    "    print(f\"g({x}, {y}) = {g(x, y)}\")"
   ]
  },
  {
   "cell_type": "markdown",
   "metadata": {},
   "source": [
    "## Mini exercise "
   ]
  },
  {
   "cell_type": "markdown",
   "metadata": {},
   "source": [
    "<hr/> <div class=\"alert alert-block alert-info\">\n",
    "\n",
    "**Task:** \n",
    "\n",
    "Write a function \"integer_part\" that takes a float $x \\in [0, 10)$ that prints the sentence:\n",
    "\"x is between n and n+1\" with the $n$ such that $n\\leq x < n+1$, and return $n$.\n",
    "    \n",
    "*Example*: integer_part(5.4) would print the sentence \"5.4 is between 5 and 6\"\n",
    "\n",
    "</div>"
   ]
  },
  {
   "cell_type": "code",
   "execution_count": null,
   "metadata": {
    "ExecuteTime": {
     "end_time": "2024-10-14T23:53:59.968582Z",
     "start_time": "2024-10-14T23:53:59.963177Z"
    }
   },
   "outputs": [],
   "source": [
    "def integer_part(x):\n",
    "    n = 0\n",
    "    # ----- YOUR CODE:\n",
    "    # ----- write this function using a for loop, an if condition and a print\n",
    "    \n",
    "    \n",
    "    # --------- END YOUR CODE\n",
    "    return n  "
   ]
  },
  {
   "cell_type": "code",
   "execution_count": null,
   "metadata": {
    "ExecuteTime": {
     "end_time": "2024-10-14T23:53:59.976607Z",
     "start_time": "2024-10-14T23:53:59.972573Z"
    }
   },
   "outputs": [],
   "source": [
    "# TEST your code\n",
    "n = integer_part(1.6)\n",
    "n = integer_part(0.2)\n",
    "n = integer_part(5.7)\n",
    "n = integer_part(9.2)"
   ]
  },
  {
   "cell_type": "markdown",
   "metadata": {},
   "source": [
    "# Exercise I : Integral Approximations"
   ]
  },
  {
   "cell_type": "code",
   "execution_count": null,
   "metadata": {
    "ExecuteTime": {
     "end_time": "2024-10-14T23:54:00.892872Z",
     "start_time": "2024-10-14T23:53:59.980328Z"
    }
   },
   "outputs": [],
   "source": [
    "import numpy as np # Package for array manipulations\n",
    "import matplotlib.pyplot as plt # Package for plotting\n",
    "\n",
    "\n",
    "# Jupyter magic command to make the plots a bit nicer\n",
    "%matplotlib notebook\n",
    "                     # replace with \"%matplotlib inline\" \n",
    "                     # in case one uses the VS code UI\n",
    "                     # instead of the Jupyter UI"
   ]
  },
  {
   "cell_type": "markdown",
   "metadata": {},
   "source": [
    "## Description "
   ]
  },
  {
   "cell_type": "markdown",
   "metadata": {
    "ExecuteTime": {
     "end_time": "2024-10-11T11:56:41.611877Z",
     "start_time": "2024-10-11T11:56:41.602838Z"
    }
   },
   "source": [
    "In this exercise, we will illustrate the the mathematical formula:\n",
    "$$\n",
    "\\int_{-1}^x t^2 - 1 \\; dt = \\frac{x^3 + 1}{3} - x - 1\n",
    "$$"
   ]
  },
  {
   "cell_type": "markdown",
   "metadata": {},
   "source": [
    "We will test the algorithm for $\\Delta t=  0.5$ , $\\Delta t=  0.2$ and $\\Delta t=  0.1$"
   ]
  },
  {
   "cell_type": "markdown",
   "metadata": {},
   "source": [
    "## Preamble"
   ]
  },
  {
   "cell_type": "markdown",
   "metadata": {},
   "source": [
    "<hr/>\n",
    "<div class=\"alert alert-block alert-info\">\n",
    "   \n",
    "**Task:**\n",
    "    \n",
    "Complete the following code to create the function $f(t) = t^2 - 1$\n",
    "</div>"
   ]
  },
  {
   "cell_type": "code",
   "execution_count": null,
   "metadata": {
    "ExecuteTime": {
     "end_time": "2024-10-14T23:54:00.904423Z",
     "start_time": "2024-10-14T23:54:00.898418Z"
    }
   },
   "outputs": [],
   "source": [
    "def f(t):\n",
    "    # ----- YOUR CODE\n",
    "    value = ...\n",
    "    # --------- END YOUR CODE\n",
    "    return value"
   ]
  },
  {
   "cell_type": "markdown",
   "metadata": {},
   "source": [
    "<hr/>\n",
    "<div class=\"alert alert-block alert-info\">\n",
    "   \n",
    "**Task:**\n",
    "    \n",
    "Complete the following code with the formula of what the integral of f from -1 to x should be.\n",
    "</div>"
   ]
  },
  {
   "cell_type": "code",
   "execution_count": null,
   "metadata": {
    "ExecuteTime": {
     "end_time": "2024-10-14T23:54:00.916297Z",
     "start_time": "2024-10-14T23:54:00.908189Z"
    }
   },
   "outputs": [],
   "source": [
    "# This is what the integral should be\n",
    "def theory_integral(x):\n",
    "    # ----- YOUR CODE:\n",
    "    integral = ...\n",
    "    \n",
    "    # --------- END YOUR CODE\n",
    "    return integral"
   ]
  },
  {
   "cell_type": "code",
   "execution_count": null,
   "metadata": {
    "ExecuteTime": {
     "end_time": "2024-10-14T23:54:00.925163Z",
     "start_time": "2024-10-14T23:54:00.920200Z"
    }
   },
   "outputs": [],
   "source": [
    "# Define the list of Delta t that are going to be used\n",
    "LIST_dt = [0.5, 0.2, 0.1]"
   ]
  },
  {
   "cell_type": "markdown",
   "metadata": {},
   "source": [
    "## Rieman sum to approximate the integral"
   ]
  },
  {
   "cell_type": "markdown",
   "metadata": {},
   "source": [
    "To approximate the integral, we will use the Riemann sum to approximate the integral:\n",
    "$$\n",
    "\\int_a^b f(t) dt \\approx  \\sum_{i=0}^{n-1}  \\Delta t \\; f(a + i \\Delta t)\n",
    "$$\n",
    "\n",
    "with $n \\approx \\frac{b-a}{\\Delta t}$"
   ]
  },
  {
   "cell_type": "code",
   "execution_count": null,
   "metadata": {
    "ExecuteTime": {
     "end_time": "2024-10-14T23:54:01.347595Z",
     "start_time": "2024-10-14T23:54:00.930918Z"
    }
   },
   "outputs": [],
   "source": [
    "# Illustration (nothing to do here)\n",
    "# You do not have to read this code, its only purpose is visualization!\n",
    "\n",
    "t_array = np.linspace(-1, 3, num=1000)\n",
    "\n",
    "fig, axs = plt.subplots(len(LIST_dt), figsize=(6, 3*len(LIST_dt)))\n",
    "for i, ax in enumerate(axs):\n",
    "    dt = LIST_dt[i]\n",
    "    n = int(4/dt)\n",
    "    \n",
    "    grid, step = np.linspace(-1, 3, num=n, endpoint=False, retstep=True)\n",
    "    f_grid = f(grid)\n",
    "    \n",
    "    ax.set_title(r\"Integration rule $\\Delta t = $\"+str(dt))\n",
    "    ax.set_xlabel(r\"$t$\")\n",
    "    ax.axhline(0., color=\"black\")\n",
    "    ax.plot(t_array, f(t_array))\n",
    "    ax.vlines(grid, 0, f_grid, color=\"red\", linestyle=\"--\")\n",
    "    ax.vlines(grid+step, 0, f_grid, color=\"red\", linestyle=\"--\")\n",
    "    ax.hlines(f_grid, grid, grid+step, color=\"red\", linestyle=\"--\")\n",
    "fig.tight_layout()"
   ]
  },
  {
   "cell_type": "markdown",
   "metadata": {},
   "source": [
    "<hr/>\n",
    "<div class=\"alert alert-block alert-info\">\n",
    "   \n",
    "**Task:**\n",
    "    \n",
    "Complete the following code such that the Riemann sum is correctly updated\n",
    "</div>"
   ]
  },
  {
   "cell_type": "code",
   "execution_count": null,
   "metadata": {
    "ExecuteTime": {
     "end_time": "2024-10-14T23:54:01.358845Z",
     "start_time": "2024-10-14T23:54:01.351506Z"
    }
   },
   "outputs": [],
   "source": [
    "def Riemann_sum(a, b, approx_dt):\n",
    "    \"\"\"\n",
    "        This functions function approximates the integral of f from a to b, using the Riemann sum\n",
    "    \"\"\"\n",
    "    n = int(round((b-a)/approx_dt)) # find the closest integer to (b-a)/Delta_t\n",
    "    dt = (b-a)/n # Find the corresponding Delta_t\n",
    "    \n",
    "    sum_to_update = 0.\n",
    "    for i in range(n):\n",
    "        # ----- YOUR CODE:\n",
    "        something = ...\n",
    "        # --------- END YOUR CODE\n",
    "        sum_to_update = sum_to_update + something\n",
    "    return sum_to_update"
   ]
  },
  {
   "cell_type": "markdown",
   "metadata": {},
   "source": [
    "<hr/>\n",
    "<div class=\"alert alert-block alert-info\">\n",
    "   \n",
    "**Task:**\n",
    "    \n",
    "Use the function previously define to complete the function approximate_integral,\n",
    "which approximates the integrals of f from -1 to x\n",
    "</div>"
   ]
  },
  {
   "cell_type": "code",
   "execution_count": null,
   "metadata": {
    "ExecuteTime": {
     "end_time": "2024-10-14T23:54:01.371579Z",
     "start_time": "2024-10-14T23:54:01.363113Z"
    }
   },
   "outputs": [],
   "source": [
    "def approximate_integral(x, dt):\n",
    "    # ----- YOUR CODE:\n",
    "    result = ...\n",
    "    # --------- END YOUR CODE\n",
    "    return result"
   ]
  },
  {
   "cell_type": "markdown",
   "metadata": {},
   "source": [
    "## Testing"
   ]
  },
  {
   "cell_type": "code",
   "execution_count": null,
   "metadata": {
    "ExecuteTime": {
     "end_time": "2024-10-14T23:54:01.385892Z",
     "start_time": "2024-10-14T23:54:01.375728Z"
    }
   },
   "outputs": [],
   "source": [
    "x_tests = [0., 1., 1.5, 3, 5.3]\n",
    "dt = 0.1\n",
    "for x in x_tests:\n",
    "    numerical_simulation = approximate_integral(x, dt)\n",
    "    theory = theory_integral(x)\n",
    "    \n",
    "    print(f\"x = {x}\")\n",
    "    print(f\"    theory     says: {theory:.3f}\")\n",
    "    print(f\"    simulation says: {numerical_simulation:.3f}\")\n",
    "    print(\" \")"
   ]
  },
  {
   "cell_type": "code",
   "execution_count": null,
   "metadata": {
    "ExecuteTime": {
     "end_time": "2024-10-14T23:54:01.397595Z",
     "start_time": "2024-10-14T23:54:01.390527Z"
    }
   },
   "outputs": [],
   "source": [
    "# Compare the simulations for different step sizes\n",
    "\n",
    "# First store results for many values of x in some lists\n",
    "X = [] # list of values of X\n",
    "THEORY = [] # list of values of what the integral should be\n",
    "\n",
    "SIMULATIONS = {dt : [] for dt in LIST_dt} # dictionary where for each dt,\n",
    "                                               # the list corresponds to the simulation for this dt\n",
    "\n",
    "for i in range(20):\n",
    "    x = i / 10\n",
    "    theory = theory_integral(x)\n",
    "    X.append(x)\n",
    "    THEORY.append(theory)\n",
    "    \n",
    "    for dt in LIST_dt:\n",
    "        simulation = approximate_integral(x, dt)\n",
    "        SIMULATIONS[dt].append(simulation)"
   ]
  },
  {
   "cell_type": "code",
   "execution_count": null,
   "metadata": {
    "ExecuteTime": {
     "end_time": "2024-10-14T23:54:01.458291Z",
     "start_time": "2024-10-14T23:54:01.414008Z"
    },
    "scrolled": false
   },
   "outputs": [],
   "source": [
    "fig, ax = plt.subplots()\n",
    "ax.set_xlabel(\"x\")\n",
    "ax.set_ylabel(\"integral of t^2 from 1 to x\")\n",
    "for dt in LIST_dt:\n",
    "    ax.plot(X, SIMULATIONS[dt], label=f\"simulation, with dt={dt}\", linestyle=\"--\", alpha=0.5)\n",
    "ax.plot(X, THEORY, label=\"theory\", color=\"black\")\n",
    "ax.legend()"
   ]
  },
  {
   "cell_type": "markdown",
   "metadata": {},
   "source": [
    "## Using numpy\n",
    "\n",
    "Using numpy, the code can become more compact and much faster.\n",
    "For a tutorial on how to use numpy: https://numpy.org/doc/stable/user/absolute_beginners.html"
   ]
  },
  {
   "cell_type": "markdown",
   "metadata": {},
   "source": [
    "In the following code, we reimplement the function for approximating the integral using numpy arrays instead of using a For Loop. The resulting function will be much faster !"
   ]
  },
  {
   "cell_type": "code",
   "execution_count": null,
   "metadata": {
    "ExecuteTime": {
     "end_time": "2024-10-14T23:54:01.474194Z",
     "start_time": "2024-10-14T23:54:01.462379Z"
    }
   },
   "outputs": [],
   "source": [
    "def numpy_Riemann_sum(f, a, b, approx_Delta_t):\n",
    "    \"\"\"\n",
    "        This functions function approximates the integral of f from a to b, using the Riemann sum\n",
    "    \"\"\"\n",
    "    n = round((b-a)/approx_Delta_t) # find the closest integer to (b-a)/Delta_t\n",
    "    Delta_t = (b-a)/n # Find the corresponding Delta_t\n",
    "    \n",
    "    t_array = np.linspace(a, b, num=n, endpoint=False)\n",
    "    f_array = f(t_array)\n",
    "    f_sum = np.sum(f_array)\n",
    "\n",
    "    integral_approx = Delta_t * f_sum\n",
    "    return integral_approx\n",
    "\n",
    "\n",
    "\n",
    "def numpy_approximate_integral(x, step_size):\n",
    "    return numpy_Riemann_sum(function_f, -1., x, step_size)\n",
    "\n",
    "\n",
    "def numpy_Riemann_sum(a, b, approx_dt):\n",
    "    \"\"\"\n",
    "        This functions function approximates the integral of f from a to b, using the Riemann sum\n",
    "    \"\"\"\n",
    "    n = int(round((b-a)/approx_dt)) # find the closest integer to (b-a)/Delta_t\n",
    "    dt = (b-a)/n # Find the corresponding Delta_t\n",
    "    \n",
    "    t_array = np.linspace(a, b, num=n, endpoint=False)\n",
    "    array_of_f_evaluated = f(t_array)\n",
    "    something_to_sum = dt * array_of_f_evaluated \n",
    "    the_sum = np.sum(something_to_sum)\n",
    "    return the_sum\n",
    "\n",
    "def numpy_approximate_integral(x, dt):\n",
    "    return numpy_Riemann_sum(-1., x, dt)"
   ]
  },
  {
   "cell_type": "code",
   "execution_count": null,
   "metadata": {
    "ExecuteTime": {
     "end_time": "2024-10-14T23:54:01.485898Z",
     "start_time": "2024-10-14T23:54:01.478083Z"
    }
   },
   "outputs": [],
   "source": [
    "# Now we compare the runtimes using the package time\n",
    "from time import time\n",
    "\n",
    "x = 10.\n",
    "\n",
    "theory = theory_integral(x)"
   ]
  },
  {
   "cell_type": "code",
   "execution_count": null,
   "metadata": {
    "ExecuteTime": {
     "end_time": "2024-10-14T23:54:01.819897Z",
     "start_time": "2024-10-14T23:54:01.489790Z"
    }
   },
   "outputs": [],
   "source": [
    "step_size = 1e-6\n",
    "\n",
    "t0 = time()\n",
    "integral_using_numpy = numpy_approximate_integral(x, step_size)\n",
    "runtime_using_numpy = time() - t0\n",
    "error_using_numpy = theory - integral_using_numpy\n",
    "\n",
    "\n",
    "print(f\"Error using numpy = {error_using_numpy:.2e} \")\n",
    "print(f\"Runtime using numpy = {runtime_using_numpy:.2e} \")"
   ]
  },
  {
   "cell_type": "code",
   "execution_count": null,
   "metadata": {
    "ExecuteTime": {
     "end_time": "2024-10-14T23:54:04.403239Z",
     "start_time": "2024-10-14T23:54:01.823995Z"
    }
   },
   "outputs": [],
   "source": [
    "t0 = time()\n",
    "integral_using_a_loop = approximate_integral(x, step_size)\n",
    "runtime_using_a_loop = time() - t0\n",
    "error_using_a_loop = theory - integral_using_a_loop\n",
    "\n",
    "\n",
    "print(f\"Error using a loop = {error_using_a_loop:.2e} \")\n",
    "print(f\"Runtime using a loop = {runtime_using_a_loop:.2e} \")"
   ]
  },
  {
   "cell_type": "markdown",
   "metadata": {},
   "source": [
    "You should see that the solution using numpy is much faster !"
   ]
  },
  {
   "cell_type": "markdown",
   "metadata": {},
   "source": [
    "# Exercise II: An ordinary differential equation"
   ]
  },
  {
   "cell_type": "code",
   "execution_count": null,
   "metadata": {
    "ExecuteTime": {
     "end_time": "2024-10-14T23:55:06.377294Z",
     "start_time": "2024-10-14T23:55:06.371941Z"
    }
   },
   "outputs": [],
   "source": [
    "import numpy as np # Package for array manipulations\n",
    "import matplotlib.pyplot as plt # Package for plotting\n",
    "\n",
    "\n",
    "# Jupyter magic command to make the plots a bit nicer\n",
    "%matplotlib notebook\n",
    "                     # replace with \"%matplotlib inline\" \n",
    "                     # in case one uses the VS code UI\n",
    "                     # instead of the Jupyter UI"
   ]
  },
  {
   "cell_type": "markdown",
   "metadata": {},
   "source": [
    "## Description "
   ]
  },
  {
   "cell_type": "markdown",
   "metadata": {
    "ExecuteTime": {
     "end_time": "2024-10-11T11:56:41.611877Z",
     "start_time": "2024-10-11T11:56:41.602838Z"
    }
   },
   "source": [
    "Consider the differential equation for $t \\in [0, T]$:\n",
    "\n",
    "$$\n",
    "\\begin{align*}\n",
    "\\dot{x}_1(t) &= - x_1(t) \\\\ \n",
    "\\dot{x}_2(t) &= -x_3(t) \\\\\n",
    "\\dot{x}_3(t) &= x_2(t)\n",
    "\\end{align*}\n",
    "$$\n",
    "\n",
    "with the initial condition:\n",
    "$$\n",
    "\\begin{align*}\n",
    "x_1(0) &= 1 \\\\ \n",
    "x_2(0) &= 1 \\\\\n",
    "x_3(0) &= 0\n",
    "\\end{align*}\n",
    "$$"
   ]
  },
  {
   "cell_type": "markdown",
   "metadata": {},
   "source": [
    "The solution can be computed:\n",
    "$$\n",
    "\\begin{align*}\n",
    "x_1(t) &= \\exp(-t) \\\\ \n",
    "x_2(t) &= \\cos(t) \\\\\n",
    "x_3(t) &= \\sin(t)\n",
    "\\end{align*}\n",
    "$$"
   ]
  },
  {
   "cell_type": "markdown",
   "metadata": {},
   "source": [
    "<hr/>\n",
    "<div class=\"alert alert-block alert-info\">\n",
    "   \n",
    "**Task:**\n",
    "    \n",
    "Complete the following code to compute the exact solutions $x_1$, $x_2$ and $x_3$\n",
    "</div>"
   ]
  },
  {
   "cell_type": "markdown",
   "metadata": {},
   "source": [
    "   <div class=\"alert alert-success\">\n",
    "   \n",
    "**Tip:**\n",
    "\n",
    "To compute $e^t$, $\\sin(t)$ and $\\cos(t)$, use the functions from the numpy library np.exp(t), np.sin(t), np.cos(t)\n",
    "</div>"
   ]
  },
  {
   "cell_type": "code",
   "execution_count": null,
   "metadata": {
    "ExecuteTime": {
     "end_time": "2024-10-14T23:55:07.591258Z",
     "start_time": "2024-10-14T23:55:07.587276Z"
    }
   },
   "outputs": [],
   "source": [
    "T = 10.\n",
    "\n",
    "\n",
    "def solution(t):\n",
    "    # ----- YOUR CODE\n",
    "    x1 = ...\n",
    "    x2 = ...\n",
    "    x3 = ...\n",
    "    # ----- END YOUR CODE\n",
    "    return x1, x2, x3"
   ]
  },
  {
   "cell_type": "code",
   "execution_count": null,
   "metadata": {
    "ExecuteTime": {
     "end_time": "2024-10-14T23:55:08.145343Z",
     "start_time": "2024-10-14T23:55:07.787656Z"
    }
   },
   "outputs": [],
   "source": [
    "ts = np.linspace(0., T, num=100)\n",
    "x1s, x2s, x3s = solution(ts)\n",
    "xs = np.array([x1s, x2s, x3s])\n",
    "\n",
    "fig, axs = plt.subplots(3, figsize=(6, 3*3))\n",
    "for i in range(3):\n",
    "    ax = axs[i]\n",
    "    ax.set_title(r\"$x_\"+str(i+1)+\"$\")\n",
    "    ax.set_xlabel(r\"$t$\")\n",
    "    ax.set_ylabel(r\"$x$\")\n",
    "    ax.axhline(0., color=\"black\")\n",
    "    ax.axvline(0., color=\"black\")\n",
    "    \n",
    "    ax.plot(ts, xs[i], label=\"solution\")\n",
    "    ax.legend()\n",
    "fig.tight_layout()"
   ]
  },
  {
   "cell_type": "markdown",
   "metadata": {},
   "source": [
    "## Matrix formulation"
   ]
  },
  {
   "cell_type": "markdown",
   "metadata": {},
   "source": [
    "Find a matrix $A \\in \\mathbb{R}^{3 \\times 3}$ a vector $x_0 \\in \\mathbb{R}^{3}$ such that, if we define:\n",
    "$$\n",
    "x(t) = \n",
    "\\begin{bmatrix}\n",
    "x_1(t) \\\\ x_2(t) \\\\ x_3(t)\n",
    "\\end{bmatrix}\n",
    "$$\n",
    "then\n",
    "the differential equation takes the form\n",
    "$$\n",
    "\\dot{x}(t) = A x(t)\n",
    "$$\n",
    "and the initial condition is $x(0) = x_0$.\n"
   ]
  },
  {
   "cell_type": "markdown",
   "metadata": {},
   "source": [
    "<hr/>\n",
    "<div class=\"alert alert-block alert-info\">\n",
    "   \n",
    "**Task:**\n",
    "    \n",
    "Define the matrix A and the vector $x_0$\n",
    "</div>"
   ]
  },
  {
   "cell_type": "code",
   "execution_count": null,
   "metadata": {
    "ExecuteTime": {
     "end_time": "2024-10-14T23:55:10.341554Z",
     "start_time": "2024-10-14T23:55:10.335302Z"
    }
   },
   "outputs": [],
   "source": [
    "# ----- YOUR CODE:\n",
    "A = np.array([\n",
    "    [..., ..., ...],\n",
    "    [..., ..., ...],\n",
    "    [..., ..., ...],\n",
    "])\n",
    "\n",
    "x0 = np.array([..., ..., ...])\n",
    "# --------- END YOUR CODE"
   ]
  },
  {
   "cell_type": "markdown",
   "metadata": {},
   "source": [
    "## Solution approximation "
   ]
  },
  {
   "cell_type": "markdown",
   "metadata": {},
   "source": [
    "To approximate the solution of the ODE, we use the so called Euler approximation scheme, with step-size $h$: a sequence $x^{(k)}$ is generated according to the recursive law:\n",
    "$$\n",
    "x^{(k+1)} = x^{(k)} + h A x^{(k)}\n",
    "$$\n",
    "with the property $x^{(k)} \\approx x(hk)$."
   ]
  },
  {
   "cell_type": "markdown",
   "metadata": {},
   "source": [
    "<hr/>\n",
    "<div class=\"alert alert-block alert-info\">\n",
    "   \n",
    "**Task:**\n",
    "    \n",
    "Update the following code such that that sequence_x will contain the elements $x^{(k)}$ for $k=0, \\dots, N$\n",
    "</div>"
   ]
  },
  {
   "cell_type": "markdown",
   "metadata": {},
   "source": [
    " \n",
    "<div class=\"alert alert-success\">\n",
    "    \n",
    "**Tip:**\n",
    "\n",
    "The matrix multiplication $A x$ can be computed, with numpy, by writing \"A @ x\"\n",
    "</div>\n",
    " "
   ]
  },
  {
   "cell_type": "code",
   "execution_count": null,
   "metadata": {
    "ExecuteTime": {
     "end_time": "2024-10-14T23:58:52.394496Z",
     "start_time": "2024-10-14T23:58:52.385989Z"
    }
   },
   "outputs": [],
   "source": [
    "def approximate_solution(h):\n",
    "    N = int(T / h)\n",
    "    sequence_t = np.empty(N)\n",
    "    sequence_t[0] = 0.\n",
    "    \n",
    "    sequence_x = np.empty((3, N))\n",
    "    sequence_x[:, 0] = x0\n",
    "\n",
    "    for k in range(N-1):\n",
    "        sequence_t[k+1] = sequence_t[k] + h # also store the sequence of corresponding time steps\n",
    "        \n",
    "        # ----- YOUR CODE\n",
    "        sequence_x[:, k+1] = 0. # to change\n",
    "        # --------- END YOUR CODE\n",
    "    return sequence_t, sequence_x"
   ]
  },
  {
   "cell_type": "markdown",
   "metadata": {},
   "source": [
    "## Test the scheme "
   ]
  },
  {
   "cell_type": "code",
   "execution_count": null,
   "metadata": {
    "ExecuteTime": {
     "end_time": "2024-10-14T23:59:02.343545Z",
     "start_time": "2024-10-14T23:59:02.327363Z"
    }
   },
   "outputs": [],
   "source": [
    "LIST_h = [0.1, 0.05, 0.01]\n",
    "LIST_solutions = []\n",
    "for j,h in enumerate(LIST_h):\n",
    "    t_sol, x_sol = approximate_solution(h)\n",
    "    LIST_solutions.append( (t_sol, x_sol) )"
   ]
  },
  {
   "cell_type": "code",
   "execution_count": null,
   "metadata": {
    "ExecuteTime": {
     "end_time": "2024-10-14T23:59:03.233343Z",
     "start_time": "2024-10-14T23:59:02.802455Z"
    }
   },
   "outputs": [],
   "source": [
    "ts = np.linspace(0., T, num=100)\n",
    "x1s, x2s, x3s = solution(ts)\n",
    "xs = np.array([x1s, x2s, x3s])\n",
    "fig, axs = plt.subplots(3, figsize=(6, 3*3))\n",
    "\n",
    "opacities = [0.1, 0.3, 0.6]\n",
    "for i in range(3):\n",
    "    ax = axs[i]\n",
    "    ax.set_title(r\"$x_\"+str(i+1)+\"$\")\n",
    "    ax.set_xlabel(r\"$t$\")\n",
    "    ax.set_ylabel(r\"$x$\")\n",
    "    ax.axhline(0., color=\"black\")\n",
    "    ax.axvline(0., color=\"black\")\n",
    "    \n",
    "    \n",
    "    for (j, h) in enumerate(LIST_h):\n",
    "        t_sol, x_sol = LIST_solutions[j]\n",
    "        axs[i].plot(t_sol, x_sol[i], label=f\"h = {h}\",\n",
    "                    color=\"blue\", linestyle=\"--\",\n",
    "                    alpha=opacities[j])\n",
    "    ax.plot(ts, xs[i], color=\"green\", label=\"solution\")\n",
    "    axs[i].legend()\n",
    "\n",
    "fig.tight_layout()"
   ]
  },
  {
   "cell_type": "markdown",
   "metadata": {},
   "source": [
    "# Exercise III: Interpolation"
   ]
  },
  {
   "cell_type": "code",
   "execution_count": null,
   "metadata": {
    "ExecuteTime": {
     "end_time": "2024-10-14T23:59:06.521994Z",
     "start_time": "2024-10-14T23:59:06.515274Z"
    }
   },
   "outputs": [],
   "source": [
    "import numpy as np # Package for array manipulations\n",
    "import matplotlib.pyplot as plt # Package for plotting\n",
    "\n",
    "\n",
    "# Jupyter magic command to make the plots a bit nicer\n",
    "%matplotlib notebook \n",
    "                     # replace with \"%matplotlib inline\" \n",
    "                     # in case one uses the VS code UI\n",
    "                     # instead of the Jupyter UI"
   ]
  },
  {
   "cell_type": "markdown",
   "metadata": {},
   "source": [
    "## Description "
   ]
  },
  {
   "cell_type": "markdown",
   "metadata": {
    "ExecuteTime": {
     "end_time": "2024-10-11T11:56:41.611877Z",
     "start_time": "2024-10-11T11:56:41.602838Z"
    }
   },
   "source": [
    "In this exercise, we will find a polynomial $P_n(x)$ of degree $\\leq n-1$ that matches some input-output dana $a_i, y_i$:\n",
    "$$\n",
    "P_n \\left(a_i \\right) = y_i \\quad \\mathrm{for } \\quad i = 0, \\dots, n-1\n",
    "$$"
   ]
  },
  {
   "cell_type": "markdown",
   "metadata": {},
   "source": [
    "In this exercise, the package numpy should be used."
   ]
  },
  {
   "cell_type": "markdown",
   "metadata": {},
   "source": [
    "## Preamble"
   ]
  },
  {
   "cell_type": "markdown",
   "metadata": {},
   "source": [
    "In this exercise, we choose $a_i = \\frac{2i-n+1}{n-1}$ and $y_i = \\mathrm{sigmoid}_{\\beta}(x_i)$\n",
    "\n",
    "\n",
    "The sigmoid function is defined as follows:\n",
    "$$\n",
    "\\mathrm{sigmoid}_{\\beta}(x) =\n",
    "\\frac{e^{\\beta x} }{e^{\\beta x} + e^{- \\beta x}}\n",
    "$$\n",
    "\n",
    "\n",
    "The constant $\\beta$ will be set to $5$."
   ]
  },
  {
   "cell_type": "markdown",
   "metadata": {},
   "source": [
    "<hr/>\n",
    "<div class=\"alert alert-block alert-info\">\n",
    "   \n",
    "**Task:**\n",
    "\n",
    "Complete the function sigmoid\n",
    "</div>"
   ]
  },
  {
   "cell_type": "markdown",
   "metadata": {},
   "source": [
    " \n",
    "<div class=\"alert alert-success\">\n",
    "\n",
    "**Tip:**\n",
    "\n",
    "To compute $e^x$, use the function np.exp(x)\n",
    " \n",
    "</div>"
   ]
  },
  {
   "cell_type": "code",
   "execution_count": null,
   "metadata": {
    "ExecuteTime": {
     "end_time": "2024-10-14T23:59:09.798910Z",
     "start_time": "2024-10-14T23:59:09.794861Z"
    }
   },
   "outputs": [],
   "source": [
    "beta = 5.\n",
    "\n",
    "def sigmoid(x):\n",
    "    # ----- YOUR CODE\n",
    "    value = ...\n",
    "    # --------- END YOUR CODE\n",
    "    return value"
   ]
  },
  {
   "cell_type": "markdown",
   "metadata": {},
   "source": [
    "<hr/>\n",
    "<div class=\"alert alert-block alert-info\">\n",
    "   \n",
    "**Task:**\n",
    "    \n",
    "Complete the function generate_a(n) that returns an array of length $n+1$ containing the points $a_i = \\frac{2i - n-1}{n-1}$ for $i=0, \\dots, n-1$\n",
    "</div>"
   ]
  },
  {
   "cell_type": "markdown",
   "metadata": {},
   "source": [
    "<div class=\"alert alert-success\">\n",
    "\n",
    "**Tip:**\n",
    "\n",
    "The function np.arange(n) returns an array containing the integers $i = 0, ..., n-1$\n",
    "    \n",
    "</div>"
   ]
  },
  {
   "cell_type": "code",
   "execution_count": null,
   "metadata": {
    "ExecuteTime": {
     "end_time": "2024-10-14T23:59:10.842791Z",
     "start_time": "2024-10-14T23:59:10.838119Z"
    }
   },
   "outputs": [],
   "source": [
    "def generate_a(n):\n",
    "    # ----- YOUR CODE\n",
    "    a = ...\n",
    "    # --------- END YOUR CODE\n",
    "    return a"
   ]
  },
  {
   "cell_type": "markdown",
   "metadata": {},
   "source": [
    "## Illustration (nothing to do here) "
   ]
  },
  {
   "cell_type": "markdown",
   "metadata": {},
   "source": [
    "You do not have to read this code, its only purpose is visualization!"
   ]
  },
  {
   "cell_type": "code",
   "execution_count": null,
   "metadata": {
    "ExecuteTime": {
     "end_time": "2024-10-14T23:59:11.580094Z",
     "start_time": "2024-10-14T23:59:11.482430Z"
    }
   },
   "outputs": [],
   "source": [
    "# Test your functions\n",
    "\n",
    "x_linspace = np.linspace(-2, 2, num=50)\n",
    "\n",
    "n = 5\n",
    "a_i = generate_a(n)\n",
    "\n",
    "fig, ax = plt.subplots(figsize=(6,3))\n",
    "ax.set_xlabel(r\"$x$\")\n",
    "ax.set_xlabel(r\"$y$\")\n",
    "ax.plot(x_linspace, sigmoid(x_linspace), \"b-\", label=r\"$f(x)$\")\n",
    "ax.plot(a_i, sigmoid(a_i), \"ro\", label=r\"$a_i$\")\n",
    "ax.legend()"
   ]
  },
  {
   "cell_type": "markdown",
   "metadata": {},
   "source": [
    "## Polynomials "
   ]
  },
  {
   "cell_type": "markdown",
   "metadata": {},
   "source": [
    "Define $c_0, \\dots, c_{n-1}$ the coefficients of the polynomial $P(x)$.\n",
    "$$\n",
    "P_n(x) = \\sum_{j=0}^{n-1} c_j x^j\n",
    "$$\n",
    "\n",
    "For a vector $\\vec{x} \\in \\mathrm{R}^m$, we define the vector $\\vec{P}_n \\left( \\vec{x} \\right) \\in \\mathrm{R}^m$ whose components are $P_n(x_k)$ where $x_k$ are the components of $\\vec{x}$.\n",
    "\n",
    "Then, the following holds:\n",
    "$$\n",
    "\\vec{P}_n \\left( \\vec{x} \\right) = V_n\\left(\\vec{x} \\right) \\; \\vec{c}\n",
    "$$\n",
    "\n",
    "where the Vandermonde matrix $V_n \\left(\\vec{x} \\right) \\in \\mathrm{R}^{m \\times n}$ is such that its $(k,j)$-elements are $x_k^j$ for $j=0, \\dots, n-1$\n"
   ]
  },
  {
   "cell_type": "markdown",
   "metadata": {},
   "source": [
    "<hr/>\n",
    "<div class=\"alert alert-block alert-info\">\n",
    "   \n",
    "**Task:**\n",
    "    \n",
    "Complete the function build_Vandermonde(x, n) that creates an array representing the Vandermonde matrix of a vector $\\vec{x}$.\n",
    "</div>"
   ]
  },
  {
   "cell_type": "markdown",
   "metadata": {},
   "source": [
    "<div class=\"alert alert-success\">\n",
    "   \n",
    "**Tip:**\n",
    "    \n",
    "The notation x**i can be used even when x is a numpy array. In that case, this will create an array similar to x, but where each element is risen at the power $i$.\n",
    "</div>"
   ]
  },
  {
   "cell_type": "code",
   "execution_count": null,
   "metadata": {
    "ExecuteTime": {
     "end_time": "2024-10-14T23:59:13.315860Z",
     "start_time": "2024-10-14T23:59:13.310256Z"
    }
   },
   "outputs": [],
   "source": [
    "def build_Vandermonde(x, n):\n",
    "    matrix = np.empty((len(x), n))\n",
    "    # ----- YOUR CODE:\n",
    "    \n",
    "    # --------- END YOUR CODE\n",
    "    return matrix"
   ]
  },
  {
   "cell_type": "markdown",
   "metadata": {},
   "source": [
    "<hr/>\n",
    "<div class=\"alert alert-block alert-info\">\n",
    "   \n",
    "**Task:**\n",
    "    \n",
    "Use the function previously defined to complete the function evaluate, which should compute P(x) where x is an array.\n",
    "</div>"
   ]
  },
  {
   "cell_type": "code",
   "execution_count": null,
   "metadata": {
    "ExecuteTime": {
     "end_time": "2024-10-14T23:59:13.724574Z",
     "start_time": "2024-10-14T23:59:13.716825Z"
    }
   },
   "outputs": [],
   "source": [
    "def evaluate(x, c):\n",
    "    # ----- YOUR CODE:\n",
    "    P = ...\n",
    "    # --------- END YOUR CODE\n",
    "    return P"
   ]
  },
  {
   "cell_type": "markdown",
   "metadata": {},
   "source": [
    "Then the data equation reads:\n",
    "$$\n",
    "P(a_i) = y_i  \\quad i = 0, \\dots, n-1\n",
    "$$\n",
    "\n",
    "Or in matrix form:\n",
    "$$\n",
    "V_n\\left(\\vec{a} \\right) \\; \\vec{c} = \\vec{y}\n",
    "$$\n",
    "where $V_n \\left(\\vec{a} \\right) \\in \\mathrm{R}^{n \\times n}$ is a square matrix.\n",
    "\n",
    "Hence, one can retrieve the coefficients $\\vec{c}$ from the data $\\vec{a}, \\vec{y}$ as long as $V_n\\left(\\vec{a} \\right)$ is invertible (which is the case here since the points $a_i$ are all differents...)\n"
   ]
  },
  {
   "cell_type": "markdown",
   "metadata": {},
   "source": [
    "<hr/>\n",
    "<div class=\"alert alert-block alert-info\">\n",
    "   \n",
    "**Task:**\n",
    "    \n",
    "Complete the function fit_polynomial that uses the equation above to compute $\\vec{c}$ from $\\vec{a}$ and $\\vec{y}$\n",
    "</div>"
   ]
  },
  {
   "cell_type": "markdown",
   "metadata": {},
   "source": [
    "<div class=\"alert alert-success\">\n",
    "   \n",
    "**Tip:**\n",
    "    \n",
    "One can compute the inverse of a square matrix M with the function np.linalg.inv(M)\n",
    "</div>"
   ]
  },
  {
   "cell_type": "code",
   "execution_count": null,
   "metadata": {
    "ExecuteTime": {
     "end_time": "2024-10-14T23:59:14.397900Z",
     "start_time": "2024-10-14T23:59:14.393464Z"
    }
   },
   "outputs": [],
   "source": [
    "def fit_polynomial(a, y):\n",
    "    n = len(a)\n",
    "    # ----- YOUR CODE:\n",
    "\n",
    "    # --------- END YOUR CODE\n",
    "    return coefficients"
   ]
  },
  {
   "cell_type": "markdown",
   "metadata": {},
   "source": [
    "<hr/>\n",
    "<div class=\"alert alert-block alert-info\">\n",
    "   \n",
    "**Task:**\n",
    "    \n",
    "Use the functions descibed above that inputs the vectors $\\vec{a}, \\vec{y}, \\vec{x}$, and outputs the interpolation $\\vec{P}_n\\left( \\vec{x} \\right)$, where $P_n(\\cdot)$ fits the data $\\vec{a}, \\vec{y}$\n",
    "</div>"
   ]
  },
  {
   "cell_type": "code",
   "execution_count": null,
   "metadata": {
    "ExecuteTime": {
     "end_time": "2024-10-14T23:59:18.330407Z",
     "start_time": "2024-10-14T23:59:18.323825Z"
    }
   },
   "outputs": [],
   "source": [
    "def interpolate(a, y, x):\n",
    "    # ----- YOUR CODE:\n",
    "\n",
    "    # --------- END YOUR CODE\n",
    "    return y_interpolation"
   ]
  },
  {
   "cell_type": "markdown",
   "metadata": {},
   "source": [
    "## Testing"
   ]
  },
  {
   "cell_type": "code",
   "execution_count": null,
   "metadata": {
    "ExecuteTime": {
     "end_time": "2024-10-14T23:59:19.233384Z",
     "start_time": "2024-10-14T23:59:18.805039Z"
    },
    "scrolled": false
   },
   "outputs": [],
   "source": [
    "x = np.linspace(-1.5, 1.5, num=100)\n",
    "\n",
    "\n",
    "LIST_n = [3, 5, 8]\n",
    "fig, axs = plt.subplots(len(LIST_n),  figsize=(6, 3*len(LIST_n)))\n",
    "\n",
    "for i, n in enumerate(LIST_n):\n",
    "    a = generate_a(n)\n",
    "    y = sigmoid(a)\n",
    "\n",
    "    y_interpolation = interpolate(a, y, x)\n",
    "    \n",
    "    ax = axs[i]\n",
    "    ax.set_title(f\"Interpolation for n = {n}\")\n",
    "    ax.set_xlabel(r\"$x$\")\n",
    "    ax.set_xlabel(r\"$y$\")\n",
    "    ax.set_ylim(-0.3, 1.3)\n",
    "    ax.plot(x, sigmoid(x), \"b-\", label=r\"$f(x)$\")\n",
    "    ax.plot(x, y_interpolation, \"g-\", label=r\"$P(x)$\")\n",
    "    ax.plot(a, y, \"ro\", label=r\"$x_i$\")\n",
    "\n",
    "    ax.legend()\n",
    "fig.tight_layout()"
   ]
  }
 ],
 "metadata": {
  "hide_input": false,
  "kernelspec": {
   "display_name": "Python 3 (ipykernel)",
   "language": "python",
   "name": "python3"
  },
  "language_info": {
   "codemirror_mode": {
    "name": "ipython",
    "version": 3
   },
   "file_extension": ".py",
   "mimetype": "text/x-python",
   "name": "python",
   "nbconvert_exporter": "python",
   "pygments_lexer": "ipython3",
   "version": "3.13.0"
  },
  "toc": {
   "base_numbering": 1,
   "nav_menu": {
    "height": "207px",
    "width": "252px"
   },
   "number_sections": true,
   "sideBar": true,
   "skip_h1_title": false,
   "title_cell": "Table of Contents",
   "title_sidebar": "Contents",
   "toc_cell": false,
   "toc_position": {
    "height": "calc(100% - 180px)",
    "left": "10px",
    "top": "150px",
    "width": "186.818px"
   },
   "toc_section_display": "block",
   "toc_window_display": true
  }
 },
 "nbformat": 4,
 "nbformat_minor": 1
}
