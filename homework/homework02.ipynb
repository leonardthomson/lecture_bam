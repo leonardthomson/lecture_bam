{
 "cells": [
  {
   "cell_type": "markdown",
   "metadata": {},
   "source": [
    "# Random Permutation"
   ]
  },
  {
   "cell_type": "code",
   "execution_count": 2,
   "metadata": {},
   "outputs": [],
   "source": [
    "# math\n",
    "import numpy as np\n",
    "# plotting\n",
    "import matplotlib.pyplot as plt\n",
    "# timing\n",
    "import timeit"
   ]
  },
  {
   "cell_type": "markdown",
   "metadata": {},
   "source": [
    "### Random Permutation Algorithm\n",
    "\n",
    "Here is the algorithm for generating a random permutation of length $ n $:\n",
    "\n",
    "1. **Input:** $ n $ (length of the permutation)\n",
    "2. **Output:** $ \\sigma $ (vector of length $ n $ defining a permutation)\n",
    "\n",
    "Algorithm:\n",
    "1. If $ n == 1 $, then $ \\sigma = (1) $\n",
    "2. Else:\n",
    "    - Draw $ l $ uniformly from the set $\\{1, \\ldots, n\\}$\n",
    "    - Let $\\sigma^\\prime$ be the result of `rand_permutation(n-1)`\n",
    "    - Set $\\sigma = (\\sigma^\\prime_1, \\ldots, \\sigma^\\prime_{l-1}, n, \\sigma^\\prime_{l}, \\ldots, \\sigma^\\prime_{n-1})$\n",
    "3. Return $\\sigma$\n",
    "\n",
    "Please implement this algorithm in the next cell.\n"
   ]
  },
  {
   "cell_type": "code",
   "execution_count": null,
   "metadata": {},
   "outputs": [],
   "source": [
    "def rand_permutation(n):\n",
    "     \"\"\"\n",
    "     Generates a random permutation of length n.\n",
    "     \n",
    "     Parameters:\n",
    "     n (int): Length of the permutation\n",
    "     \n",
    "     Returns:\n",
    "     list: A list representing the random permutation\n",
    "     \"\"\"\n",
    "     #### YOUR CODE HERE ####\n",
    "     #### END YOUR CODE ####\n",
    "\n",
    "# Example usage\n",
    "n = 5\n",
    "permutation = rand_permutation(n)\n",
    "print(permutation)"
   ]
  },
  {
   "cell_type": "markdown",
   "metadata": {},
   "source": [
    "### Runtime\n",
    "\n",
    "In the previous cell, we generated a random permutation of length `n` using our custom `rand_permutation` function.\n",
    "With more complex functions it is interesting how efficient our code is.\n",
    "We first want to look at the avarage runtime for a certain length.\n",
    "\n",
    "In many cases we simulate a lot of random draws from one specific distribution (bootstrapping).\n",
    "There a minimal runtime is obviously desirable.\n",
    "\n",
    "Feel free to try multiple values for `n`.\n"
   ]
  },
  {
   "cell_type": "code",
   "execution_count": null,
   "metadata": {},
   "outputs": [],
   "source": [
    "# number of elements in the permutation\n",
    "#### YOUR CODE HERE ####\n",
    "n = ...\n",
    "#### END YOUR CODE ####\n",
    "\n",
    "# Define a wrapper function to use with timeit\n",
    "def test_rand_permutation(n):\n",
    "    return rand_permutation(n)\n",
    "\n",
    "# Number of times to run the test\n",
    "num_runs = 1000\n",
    "\n",
    "def time_rand_permutation(n, num_runs):\n",
    "    \"\"\"\n",
    "    Measure the execution time of generating a random permutation.\n",
    "    This function uses the `timeit` module to measure the time it takes to generate\n",
    "    a random permutation of `n` elements, repeated `num_runs` times.\n",
    "    Args:\n",
    "        n (int): The number of elements in the permutation.\n",
    "        num_runs (int): The number of times to run the permutation generation for timing.\n",
    "    Returns:\n",
    "        float: The total time taken to run the permutation generation `num_runs` times.\n",
    "    \"\"\"\n",
    "    return timeit.timeit(f'rand_permutation({n})', globals=globals(), number=num_runs)\n",
    "\n",
    "print(f\"Average execution time over {num_runs} runs: {time_rand_permutation(n, num_runs) / num_runs:.6f} seconds\")"
   ]
  },
  {
   "cell_type": "markdown",
   "metadata": {},
   "source": [
    "### Timing and Performance Analysis\n",
    "\n",
    "We want to compare the performance of our random permutation algorithm to the corresponding native function of numpy or scipy."
   ]
  },
  {
   "cell_type": "code",
   "execution_count": null,
   "metadata": {},
   "outputs": [],
   "source": [
    "# Find a native function that generates a random permutation and assign the function to the variable native_random_permutation\n",
    "#### YOUR CODE HERE ####\n",
    "native_random_permutation = ...\n",
    "#### END YOUR CODE ####\n",
    "\n",
    "n = 5\n",
    "# Test the native function\n",
    "print(native_random_permutation(n))\n",
    "\n",
    "def time_rand_permutation_native(n, num_runs):\n",
    "    \"\"\"\n",
    "    Measure the execution time of generating a random permutation.\n",
    "    This function uses the `timeit` module to measure the time it takes to generate\n",
    "    a random permutation of `n` elements, repeated `num_runs` times.\n",
    "    Args:\n",
    "        n (int): The number of elements in the permutation.\n",
    "        num_runs (int): The number of times to run the permutation generation for timing.\n",
    "    Returns:\n",
    "        float: The total time taken to run the permutation generation `num_runs` times.\n",
    "    \"\"\"\n",
    "    return timeit.timeit(f'native_random_permutation({n})', globals=globals(), number=num_runs)\n",
    "\n",
    "# Measure the execution time of the native function\n",
    "print(f\"Average execution time over {num_runs} runs for the native function: {time_rand_permutation_native(n, num_runs) / num_runs:.6f} seconds\")"
   ]
  },
  {
   "cell_type": "markdown",
   "metadata": {},
   "source": [
    "Let's compare these two functions."
   ]
  },
  {
   "cell_type": "code",
   "execution_count": null,
   "metadata": {},
   "outputs": [],
   "source": [
    "# Number of times to run the test\n",
    "num_runs = 500\n",
    "\n",
    "# Define the range of n values to test\n",
    "n_values = np.logspace(0, 3, num=100, dtype=int)\n",
    "\n",
    "# Measure the average execution time for each n value\n",
    "np_times = [time_rand_permutation_native(n, num_runs) / num_runs for n in n_values]\n",
    "rand_times = [time_rand_permutation(n, num_runs) / num_runs for n in n_values]\n",
    "\n",
    "# Plot the results\n",
    "plt.figure(figsize=(10, 6))\n",
    "# plt.yscale('log') # Uncomment to use log scale\n",
    "plt.plot(n_values, np_times, label='native random permutation', marker='o')\n",
    "plt.plot(n_values, rand_times, label='rand_permutation', marker='o')\n",
    "plt.xlabel('n')\n",
    "plt.ylabel('Average Execution Time (seconds)')\n",
    "plt.title('Comparison of the native random permutation and rand_permutation Execution Time')\n",
    "plt.grid(True)\n",
    "plt.show()\n",
    "\n",
    "# No worries. This takes some time to run.\n",
    "# If it takes to long reduce num_runs to 100 or the upper bound of the range of n_values to 2."
   ]
  },
  {
   "cell_type": "markdown",
   "metadata": {},
   "source": [
    "### Interpretation\n",
    "\n",
    "Hopefully you will see that the native function is much more efficient.\n",
    "But why?\n",
    "\n",
    "Our approach is conceptually straightforward and elegant, it suffers from significant performance drawbacks, especially for larger values of $n$.\n",
    "To generate a permutation of length $n$, our function is evaluated exactly $n$ times.\n",
    "\n",
    "From our timing experiments, we observed that the recursive implementation (`rand_permutation`) has a much worse runtime compared to the native approach.\n",
    "\n",
    "Given these performance issues, it is highly recommended to explore non-recursive implementations for generating random permutations.\n",
    "\n",
    "Think of a different method and implement it.\n",
    "\n",
    "**Bonus:** Adapt the implementation of the plotting to compare all three functions.\n",
    "\n",
    "*Hint:* To translate a recursive code, a first step is to recreate it using a for-loop.\n",
    "More advanced possibilities would be to use list comprehensions or a np.array based approach.\n",
    "(Numpy is mostly coded in C/C++ and is much faster than any for loop implemented in Python.)"
   ]
  },
  {
   "cell_type": "code",
   "execution_count": 17,
   "metadata": {},
   "outputs": [],
   "source": [
    "# Write a non recursive version of the rand_permutation function.\n",
    "# Bonus: Compare the running time of this function to the previous two.\n",
    "#### YOUR CODE HERE ####\n",
    "# With no end..."
   ]
  }
 ],
 "metadata": {
  "kernelspec": {
   "display_name": "master",
   "language": "python",
   "name": "python3"
  },
  "language_info": {
   "codemirror_mode": {
    "name": "ipython",
    "version": 3
   },
   "file_extension": ".py",
   "mimetype": "text/x-python",
   "name": "python",
   "nbconvert_exporter": "python",
   "pygments_lexer": "ipython3",
   "version": "3.12.7"
  }
 },
 "nbformat": 4,
 "nbformat_minor": 2
}
